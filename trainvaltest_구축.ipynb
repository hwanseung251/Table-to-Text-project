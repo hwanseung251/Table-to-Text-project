{
  "nbformat": 4,
  "nbformat_minor": 0,
  "metadata": {
    "colab": {
      "provenance": []
    },
    "kernelspec": {
      "name": "python3",
      "display_name": "Python 3"
    },
    "language_info": {
      "name": "python"
    }
  },
  "cells": [
    {
      "cell_type": "code",
      "execution_count": null,
      "metadata": {
        "colab": {
          "base_uri": "https://localhost:8080/"
        },
        "id": "HRxtNOY2EF6_",
        "outputId": "1c3bf435-c7ca-4594-e7cb-de03330eea7a"
      },
      "outputs": [
        {
          "output_type": "stream",
          "name": "stdout",
          "text": [
            "Mounted at /content/drive\n"
          ]
        }
      ],
      "source": [
        "from google.colab import drive\n",
        "drive.mount('/content/drive')"
      ]
    },
    {
      "cell_type": "code",
      "source": [
        "import pandas as pd\n",
        "import numpy as np\n",
        "from sklearn.model_selection import train_test_split"
      ],
      "metadata": {
        "id": "LJW-IAPiJ2fq"
      },
      "execution_count": null,
      "outputs": []
    },
    {
      "cell_type": "markdown",
      "source": [
        "data load"
      ],
      "metadata": {
        "id": "upS73ZIEVuwU"
      }
    },
    {
      "cell_type": "code",
      "source": [
        "original = pd.read_excel('/content/drive/MyDrive/프로젝트NLP/original_data.xlsx')\n",
        "original = original.rename(columns = {'Customer_Description': 'text'})"
      ],
      "metadata": {
        "id": "pAWs6QRaQFmJ"
      },
      "execution_count": null,
      "outputs": []
    },
    {
      "cell_type": "code",
      "source": [
        "X = original['text']\n",
        "y = original['y']"
      ],
      "metadata": {
        "id": "VrPI9ETrAKfg"
      },
      "execution_count": null,
      "outputs": []
    },
    {
      "cell_type": "code",
      "source": [
        "X_train_val, X_test, y_train_val, y_test = train_test_split(X, y, test_size=0.1, stratify=y, random_state=42)\n",
        "X_train, X_val, y_train, y_val = train_test_split(X_train_val, y_train_val, test_size=0.1/0.9, stratify=y_train_val, random_state=42)"
      ],
      "metadata": {
        "id": "UftPJXeaVs3S"
      },
      "execution_count": null,
      "outputs": []
    },
    {
      "cell_type": "code",
      "source": [
        "train = pd.concat([X_train, y_train], axis=1)\n",
        "val = pd.concat([X_val, y_val], axis=1)\n",
        "test = pd.concat([X_test, y_test], axis=1)"
      ],
      "metadata": {
        "id": "75UAIKAkAKdh"
      },
      "execution_count": null,
      "outputs": []
    },
    {
      "cell_type": "code",
      "source": [
        "train.to_excel('/content/drive/MyDrive/프로젝트NLP/train_원본.xlsx', index=False)\n",
        "val.to_excel('/content/drive/MyDrive/프로젝트NLP/val.xlsx', index=False)\n",
        "test.to_excel('/content/drive/MyDrive/프로젝트NLP/test.xlsx', index=False)"
      ],
      "metadata": {
        "id": "d0KiK0MVAKbS"
      },
      "execution_count": null,
      "outputs": []
    }
  ]
}